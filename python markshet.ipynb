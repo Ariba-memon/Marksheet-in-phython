{
 "cells": [
  {
   "cell_type": "code",
   "execution_count": 1,
   "id": "68ef6034",
   "metadata": {},
   "outputs": [
    {
     "name": "stdout",
     "output_type": "stream",
     "text": [
      "80\n"
     ]
    }
   ],
   "source": [
    "English= 80;\n",
    "print(English);"
   ]
  },
  {
   "cell_type": "code",
   "execution_count": 2,
   "id": "2692de7d",
   "metadata": {},
   "outputs": [
    {
     "name": "stdout",
     "output_type": "stream",
     "text": [
      "Grade A+\n"
     ]
    }
   ],
   "source": [
    "percent = 82;\n",
    "if percent < 100 and percent > 80:\n",
    "    print(\"Grade A+\");\n",
    "elif percent < 80 and percent > 70:\n",
    "    print(\"Grade A\");\n",
    "elif percent < 70 and percent > 80:\n",
    "    print(\"Grade B\")\n",
    "else:\n",
    "    print(\"Fail\")"
   ]
  },
  {
   "cell_type": "code",
   "execution_count": 18,
   "id": "70541189",
   "metadata": {},
   "outputs": [
    {
     "name": "stdout",
     "output_type": "stream",
     "text": [
      "86.66666666666667\n",
      "Grade A+\n"
     ]
    }
   ],
   "source": [
    "phy = 80;\n",
    "Isl = 90;\n",
    "Eng = 90;\n",
    "total = phy + Isl + Eng;\n",
    "new = 300;\n",
    "perc = (total/new)*100;\n",
    "print(perc)\n",
    "percent = 86;\n",
    "if percent < 100 and percent > 80:\n",
    "    print(\"Grade A+\");\n",
    "elif percent < 80 and percent > 70:\n",
    "    print(\"Grade A\");\n",
    "elif percent < 70 and percent > 80:\n",
    "    print(\"Grade B\")\n",
    "elif percent < 60 and percent > 70:\n",
    "    print(\"Grade C\")\n",
    "else:\n",
    "    print(\"Fail\")"
   ]
  },
  {
   "cell_type": "code",
   "execution_count": null,
   "id": "7aa58076",
   "metadata": {},
   "outputs": [],
   "source": []
  },
  {
   "cell_type": "code",
   "execution_count": null,
   "id": "31fa5ce6",
   "metadata": {},
   "outputs": [],
   "source": []
  },
  {
   "cell_type": "code",
   "execution_count": null,
   "id": "a92c49a8",
   "metadata": {},
   "outputs": [],
   "source": []
  },
  {
   "cell_type": "code",
   "execution_count": null,
   "id": "8b099aad",
   "metadata": {},
   "outputs": [],
   "source": []
  },
  {
   "cell_type": "code",
   "execution_count": null,
   "id": "c01730c5",
   "metadata": {},
   "outputs": [],
   "source": []
  }
 ],
 "metadata": {
  "kernelspec": {
   "display_name": "Python 3",
   "language": "python",
   "name": "python3"
  },
  "language_info": {
   "codemirror_mode": {
    "name": "ipython",
    "version": 3
   },
   "file_extension": ".py",
   "mimetype": "text/x-python",
   "name": "python",
   "nbconvert_exporter": "python",
   "pygments_lexer": "ipython3",
   "version": "3.8.8"
  }
 },
 "nbformat": 4,
 "nbformat_minor": 5
}
